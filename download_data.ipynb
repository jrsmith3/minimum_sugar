{
 "cells": [
  {
   "cell_type": "markdown",
   "metadata": {},
   "source": [
    "# Download data\n",
    "This notebook contains the code to download data from the [Nutritionix API](http://www.nutritionix.com/api) into a reasonable local data structure, create and structure a sqlite3 database, populate the database with data, and save the database to a file on disk.\n",
    "\n",
    "The restaurant names and IDs have already been downloaded to `restaurant_ids.json`, and this task is beyond the scope of this notebook, so I'm just going to load the restaurant name/ID data from that file."
   ]
  },
  {
   "cell_type": "code",
   "execution_count": 6,
   "metadata": {
    "collapsed": false
   },
   "outputs": [],
   "source": [
    "import requests\n",
    "import json\n",
    "import os\n",
    "import minimum_sugar\n",
    "import sqlite3\n",
    "import types\n",
    "\n",
    "# Load credential data from file\n",
    "with open(\"credentials.json\", \"r\") as f:\n",
    "    credentials = json.load(f)\n",
    "    \n",
    "# Load restaurant IDs and names from file\n",
    "with open(\"restaurant_ids.json\", \"r\") as f:\n",
    "    restaurants = json.load(f)"
   ]
  },
  {
   "cell_type": "markdown",
   "metadata": {},
   "source": [
    "## Get data locally using Nutrionix API\n",
    "The menu item data needs to be downloaded using the Nutritionix API and stored in a local data structure. This data structure will be a list of dicts, with each list item containing all the data Nutritionix has on that menu item."
   ]
  },
  {
   "cell_type": "code",
   "execution_count": 7,
   "metadata": {
    "collapsed": false
   },
   "outputs": [],
   "source": [
    "# Could do some list comprehension here, but I think it code readability would suffer.\n",
    "menu_data = []\n",
    "for restaurant in restaurants:\n",
    "    menu_data.extend(minimum_sugar.fetch_menu_item_data(restaurant[\"id\"], credentials))"
   ]
  },
  {
   "cell_type": "markdown",
   "metadata": {},
   "source": [
    "## Create SQLite database\n",
    "The database needs to be created before it can be populated. The fields will correspond to the data fields provided by the Nutritionix API.\n",
    "\n",
    "I found that [programmatically creating the table doesn't work like I expect](http://stackoverflow.com/questions/33019599/sqlite-why-cant-parameters-be-used-to-set-an-identifier). Thus, I have to explicitly write the `CREATE TABLE` string. I used the following python to help with the string creation, but I explicitly set the `CREATE TABLE` string in a subsequent cell.\n",
    "\n",
    "```python\n",
    "# This code gets me 95% of where I want to go regarding the `CREATE TABLE` command.\n",
    "# I'll knock out the rest by hand.\n",
    "schema_slug = \"CREATE TABLE menu_data ({})\"\n",
    "\n",
    "# Map to [SQLite's types](https://www.sqlite.org/datatype3.html)\n",
    "py2sql_map = {types.NoneType: \"text\",\n",
    "    float: \"real\",\n",
    "    int: \"integer\",\n",
    "    unicode: \"text\",}\n",
    "\n",
    "# Create dict with key and sql_key_type mapping\n",
    "sql_keys_and_types = {key: py2sql_map[type(val)] for key, val in menu_data[0].iteritems()}\n",
    "\n",
    "# Generate the string used to create the SQL table columns\n",
    "sql_table_columns_command = \",\\n\".join([\" \".join(item) for item in sql_keys_and_types.iteritems()])\n",
    "\n",
    "# Pretty-print stuff.\n",
    "max_col_name_len = max([len(key) for key in sql_keys_and_types.keys()])\n",
    "sql_table_columns_command_lines = ['{:<{}s} {}'.format(key, max_col_name_len, val) for key, val in sql_keys_and_types.iteritems()]\n",
    "\n",
    "create_table_cmd = schema_slug.format(\",\\n\".join(sql_table_columns_command_lines))\n",
    "\n",
    "print create_table_cmd\n",
    "```"
   ]
  },
  {
   "cell_type": "code",
   "execution_count": 31,
   "metadata": {
    "collapsed": false
   },
   "outputs": [],
   "source": [
    "create_table_cmd = \"\"\"CREATE TABLE menu_data (\n",
    "    item_id                     text,\n",
    "    nf_ingredient_statement     text,\n",
    "    nf_serving_weight_grams     integer,\n",
    "    brand_name                  text,\n",
    "    nf_calories_from_fat        integer,\n",
    "    nf_trans_fatty_acid         integer,\n",
    "    brand_id                    text,\n",
    "    nf_sodium                   integer,\n",
    "    allergen_contains_eggs      text,\n",
    "    nf_iron_dv                  integer,\n",
    "    nf_cholesterol              integer,\n",
    "    item_description            text,\n",
    "    nf_monounsaturated_fat      text,\n",
    "    nf_dietary_fiber            integer,\n",
    "    item_type                   integer,\n",
    "    item_name                   text,\n",
    "    allergen_contains_tree_nuts text,\n",
    "    allergen_contains_shellfish text,\n",
    "    nf_vitamin_c_dv             integer,\n",
    "    nf_polyunsaturated_fat      text,\n",
    "    allergen_contains_peanuts   text,\n",
    "    nf_sugars                   integer,\n",
    "    nf_servings_per_container   text,\n",
    "    nf_total_fat                integer,\n",
    "    nf_total_carbohydrate       integer,\n",
    "    nf_saturated_fat            integer,\n",
    "    allergen_contains_wheat     text,\n",
    "    updated_at                  text,\n",
    "    allergen_contains_gluten    text,\n",
    "    nf_protein                  integer,\n",
    "    nf_calories                 integer,\n",
    "    nf_water_grams              text,\n",
    "    allergen_contains_fish      text,\n",
    "    nf_calcium_dv               integer,\n",
    "    nf_serving_size_qty         real,\n",
    "    allergen_contains_milk      text,\n",
    "    nf_vitamin_a_dv             integer,\n",
    "    nf_serving_size_unit        text,\n",
    "    nf_refuse_pct               text,\n",
    "    allergen_contains_soybeans  text\n",
    ")\"\"\""
   ]
  },
  {
   "cell_type": "code",
   "execution_count": null,
   "metadata": {
    "collapsed": true
   },
   "outputs": [],
   "source": []
  }
 ],
 "metadata": {
  "kernelspec": {
   "display_name": "Python 2",
   "language": "python",
   "name": "python2"
  },
  "language_info": {
   "codemirror_mode": {
    "name": "ipython",
    "version": 2
   },
   "file_extension": ".py",
   "mimetype": "text/x-python",
   "name": "python",
   "nbconvert_exporter": "python",
   "pygments_lexer": "ipython2",
   "version": "2.7.10"
  }
 },
 "nbformat": 4,
 "nbformat_minor": 0
}
