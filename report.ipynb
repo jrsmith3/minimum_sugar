{
 "cells": [
  {
   "cell_type": "markdown",
   "metadata": {},
   "source": [
    "# Minimizing refined sugar consumption from my favorite restaurants\n",
    "\n",
    "## Background\n",
    "I recently read [Michael Grothaus's article](https://www.fastcompany.com/3050319/lessons-learned/how-giving-up-refined-sugar-changed-my-brain) on his positive experiences with giving up refined sugar. Reading this article convinced me that abstaining from sugar was a good idea, and my doctor was enthusiastic about the idea.\n",
    "\n",
    "In the pursuit of minimizing my refined/added sugar consumption, I have two additional considerations. First, I don't cook and I have no interest in learning. Second, I'm not concerned about minimizing calories because I'm about 6'2\", around 200 lbs, and my favorite way to exercise is lifting weights (bro). I think I need around 3000 calories per day to maintain my regimen, but I've never rigorously calculated it. I usually just eat until I feel full.\n",
    "\n",
    "As anyone who has tried to quit refined sugar knows, it is hard to find food that does not contain it -- especially at restaurants. Scouring the internet, I've found endless articles and blog posts about how to cook food without sugar. To belabor the point, I'm happy for these people but I don't care to learn how to cook. Changing a single lifestyle habit such as consuming no refined/added sugar is difficult enough on its own. Changing two (eliminating sugar and cooking instead of going out) is a (wait for it) \\**recipe*\\* for failure.\n",
    "\n",
    "Instead of manually looking over menus and nutrition data for the places I patronize, I decided to build some tools to help with the following analysis.\n",
    "\n",
    "I should make the disclaimer that I am absolutely **not** a dietician nor a physician and so you should take the following analysis with a grain of salt (heh). The responsible thing to do is to talk to your doctor if you have concerns about how your diet might be affecting your health.\n",
    "\n",
    "[The American Heart Association recommends](http://www.heart.org/HEARTORG/GettingHealthy/NutritionCenter/HealthyEating/Frequently-Asked-Questions-About-Sugar_UCM_306725_Article.jsp) that women consume no more than 100 calories per day of added sugars and men consume no more than 150 calories per day of added sugars. These values work out to about 20g for women and 30g for men, assuming (lets call it) a specific energy of [5cal/g](http://www.nutritionix.com/i/usda/sugars-granulated-1-serving-1-cube/463d6237e531d7b3a164a862) for sugar.\n",
    "\n",
    "Its also very important to note that the American Heart Association makes a distinction between naturally occuring sugars and added sugar:\n",
    "\n",
    "> **Are all sugars bad?**\n",
    ">\n",
    "> No, but added sugars add calories and zero nutrients to food. Adding a limited amount of sugars to foods that provide important nutrients—such as whole-grain cereal, flavored milk or yogurt—to improve their taste, especially for children, is a better use of added sugars than nutrient-poor, highly sweetened foods.\n",
    "\n",
    "My conclusion from this statement: you could do worse than to eat 1000 calories of fresh blueberries.\n",
    "\n",
    "Unfortunately, if you are someone who wants to limit their added/refined sugar consumption, there is no US Federal regulation requiring manufacturers to include information about the amount of added vs. naturally occuring sugar in a food product. From what I've read, one can get an idea of the source of sugar in a food product by reading the list of ingredients; if the word \"sugar\" appears in the list, chances are that sugar is refined. For example, [a giant 32oz container of Dannon plain yogurt](http://www.amazon.com/Dannon-Natural-Quart-Plain-Yogurt/dp/B00RASDV2E/) contains 12g of sugar per serving, which seems like a lot in light of the American Heart Association recommendations above. However, reading the ingredients list shows this yogurt is made only from milk and yogurt cultures. Thus, this food product contains no added sugar (nevertheless, you probably shouldn't eat the whole 32oz in one sitting).\n",
    "\n",
    "\n",
    "## Analysis\n",
    "The six restaurants I frequently patronize fall into two main categories: burger places and \"Mexican\". There are a mix of the more legacy fast-food places like McDonald's, Wendy's, (and to perhaps a lesser extent) Taco Bell. The rest, Five Guys, Chipotle, and Qdoba, are upstart fast casual.\n",
    "\n",
    "I first wanted to get a sense of the sugar in each restaurant's menu. I downloaded the nutrition information of each restaurant's entire menu using the [Nutritionix API](http://www.nutritionix.com/api) and attempted to plot a histogram, but I soon found that each restaurant's menu didn't yield an apples-to-apples comparison. Some restaurants included beverages, condiments, etc. while others did not. Therefore, I categorized the menu items of each restaurant by adding category data to each database element. The categories I used were beverage, dessert, condiment, side, and entree. Note that I did not categorize menu items according to meal, i.e. breakfast, lunch, and dinner. Once the items were categorized, I was able to plot histograms of the entree menu items for each restaurant; those histograms are given below."
   ]
  },
  {
   "cell_type": "code",
   "execution_count": 1,
   "metadata": {
    "collapsed": true
   },
   "outputs": [],
   "source": [
    "# Initialize environment\n",
    "%matplotlib inline\n",
    "import matplotlib.pyplot as plt\n",
    "import json\n",
    "import sqlite3\n",
    "import minimum_sugar\n",
    "import numpy as np\n",
    "\n",
    "database_filename = \"menu_data.sqlite3\"\n",
    "\n",
    "# I want the names in the following order\n",
    "restaurant_names = [\"Wendy's\",\n",
    "                    \"McDonald's\",\n",
    "                    \"Five Guys\",\n",
    "                    \"Qdoba\",\n",
    "                    \"Taco Bell\",\n",
    "                    \"Chipotle\",]"
   ]
  },
  {
   "cell_type": "code",
   "execution_count": 26,
   "metadata": {
    "collapsed": false
   },
   "outputs": [],
   "source": [
    "with sqlite3.connect(database_filename) as conn:\n",
    "    cursor = conn.cursor()\n",
    "    \n",
    "    # Determine max sugar to properly scale plots\n",
    "    cursor.execute(\"SELECT MAX(nf_sugars) FROM menu_data WHERE menu_category = 'entree'\")\n",
    "    sugar_max = cursor.fetchall()\n",
    "    sugar_max = sugar_max[0][0]\n",
    "    \n",
    "#     # Plot results\n",
    "#     for restaurant_name in restaurant_names:\n",
    "#         cursor.execute(\"SELECT nf_sugars FROM menu_data WHERE menu_category = 'entree' AND brand_name = ?\", (restaurant_name,))\n",
    "#         sugars = cursor.fetchall()\n",
    "        \n",
    "#         fig = minimum_sugar.menu_histogram(sugars, x_max=sugar_max, param_name=\"Sugar [g]\", title=restaurant_name)\n",
    "#         plt.show()"
   ]
  },
  {
   "cell_type": "markdown",
   "metadata": {},
   "source": [
    "### Maximum sugar\n",
    "Perhaps not surprisingly, the individual menu items featuring the maximum amount of sugar are offered by Wendy's and McDonald's. Wendy's is the winner in this category with a healthy sounding menu item: \"[FIX URL]()\" containing 40g of sugar. I wanted to give Wendy's the benefit of the doubt and believe that the sugar comes from the fruit. Unfortunately, Wendy's website features so much unnecessary HTML bling that I wasn't able to find the ingrediants for this menu item within a single click. This poor website design choice soured my positive feelings about Wendy's and now I assume they are trying to obfuscate their nutrition information because they have something to hide."
   ]
  },
  {
   "cell_type": "code",
   "execution_count": 3,
   "metadata": {
    "collapsed": false
   },
   "outputs": [
    {
     "name": "stdout",
     "output_type": "stream",
     "text": [
      "Max sugar: 40\n",
      "Item Name: Apple Pecan Chicken Salad, Full Size\n"
     ]
    }
   ],
   "source": [
    "minimum_sugar.print_max_sugar_menu_item(database_filename, \"Wendy's\")"
   ]
  },
  {
   "cell_type": "markdown",
   "metadata": {},
   "source": [
    "The most sugar-rich menu items for McDonald's are the [FIX URL](), [FIX URL](), and [FIX URL]() with 17g each. Note that Wendy's has nine entree menu items with sugar greater than McDonald's Big Breakfast, listed below."
   ]
  },
  {
   "cell_type": "code",
   "execution_count": 5,
   "metadata": {
    "collapsed": false
   },
   "outputs": [
    {
     "name": "stdout",
     "output_type": "stream",
     "text": [
      "Maximum sugar situation at McDonald's:\n",
      "======================================\n",
      "Max sugar: 17\n",
      "Item Name: Big Breakfast With Hotcakes (Large Size Biscuit)\n",
      "Max sugar: 17\n",
      "Item Name: Big Breakfast With Hotcakes And Egg Whites (Regular Biscuit)\n",
      "Max sugar: 17\n",
      "Item Name: Big Breakfast With Hotcakes (Regular Size Biscuit)\n"
     ]
    }
   ],
   "source": [
    "mcd_txt = \"Maximum sugar situation at McDonald's:\"\n",
    "print mcd_txt\n",
    "print len(mcd_txt) * \"=\"\n",
    "minimum_sugar.print_max_sugar_menu_item(database_filename, \"McDonald's\")"
   ]
  },
  {
   "cell_type": "code",
   "execution_count": 20,
   "metadata": {
    "collapsed": false,
    "scrolled": false
   },
   "outputs": [
    {
     "name": "stdout",
     "output_type": "stream",
     "text": [
      "Wendy's menu items with more sugar than max. McDonald's item\n",
      "============================================================\n",
      "Apple Pecan Chicken Salad, Full Size: 40\n",
      "Steel-Cut Oatmeal with Cranberries and Pecans: 33\n",
      "Steel-Cut Oatmeal with Apples and Caramel: 26\n",
      "BBQ Ranch Chicken Salad, Full Size: 26\n",
      "Pulled Pork Sandwich w/ Spicy BBQ: 25\n",
      "Pulled Pork Sandwich w/ Sweet BBQ: 23\n",
      "Apple Pecan Chicken Salad, Half Size: 22\n",
      "Steel-Cut Oatmeal with Summer Berries: 20\n",
      "Asian Cashew Chicken Salad, Full Size: 18\n"
     ]
    }
   ],
   "source": [
    "wen_vs_mcd = \"Wendy's menu items with more sugar than max. McDonald's item\"\n",
    "print wen_vs_mcd\n",
    "print len(wen_vs_mcd) * \"=\"\n",
    "\n",
    "with sqlite3.connect(database_filename) as conn:\n",
    "    select_txt = \"\"\"\n",
    "        SELECT item_name, nf_sugars \n",
    "            FROM menu_data \n",
    "            WHERE nf_sugars > 17 \n",
    "                AND brand_name = 'Wendy''s' \n",
    "                AND menu_category = 'entree'\n",
    "            ORDER BY nf_sugars DESC\n",
    "        \"\"\"\n",
    "    \n",
    "    cursor = conn.cursor()       \n",
    "    cursor.execute(select_txt)\n",
    "    for return_txt in cursor.fetchall():\n",
    "        print return_txt[0] + \": \" + str(return_txt[1])"
   ]
  },
  {
   "cell_type": "markdown",
   "metadata": {},
   "source": [
    "Of the burger places, Five Guys has the lowest ceiling on sugar. Unfortunately for the vegetarians out there, the two menu items with 14g sugar are the [Veggie Sandwich](http://www.nutritionix.com/i//veggie-sandwich/521b95cb4a56d006d578b9bc) and [Cheese Veggie Sandwich](http://www.nutritionix.com/i/five-guys/cheese-veggie-sandwich/521b95cb4a56d006d578b9a7). I've never ordered either of these sandwiches (nor did I realize they exist), but my guess is the sugar comes from the [bun](http://www.nutritionix.com/i//bun/521b95cb4a56d006d578b9a3) and ketchup -- removing those components should lower the total sugar. On the other hand, removing the bun from these sandwiches leaves you with a pile of vegetables, at which point you should probably just head over to Chopt. In fact, are there any vegetarians that go to Five Guys for food?"
   ]
  },
  {
   "cell_type": "code",
   "execution_count": 14,
   "metadata": {
    "collapsed": false
   },
   "outputs": [
    {
     "name": "stdout",
     "output_type": "stream",
     "text": [
      "Max sugar: 14\n",
      "Item Name: Veggie Sandwich\n",
      "Max sugar: 14\n",
      "Item Name: Cheese Veggie Sandwich\n"
     ]
    }
   ],
   "source": [
    "minimum_sugar.print_max_sugar_menu_item(database_filename, \"Five Guys\")"
   ]
  },
  {
   "cell_type": "markdown",
   "metadata": {},
   "source": [
    "Looking at the histograms, it seems that Chipotle's menu has the lowest amount of sugar per menu item. This conclusion is a little deceiving: the menu items listed for Chipotle are actually components used to assemble menu items such as delicious burritos. The story is similar for Qdoba. The [Sofritas](http://www.nutritionix.com/i//sofritas/52cdcbe1051cb9eb320014de) has the most sugar at 5g, but there's no mention of sugar in the [list of ingrediants](http://chipotle.com/ingredient-statement) for this item. My guess is the sugar comes in with the soybeans."
   ]
  },
  {
   "cell_type": "code",
   "execution_count": 15,
   "metadata": {
    "collapsed": false
   },
   "outputs": [
    {
     "name": "stdout",
     "output_type": "stream",
     "text": [
      "Max sugar: 5\n",
      "Item Name: Sofritas\n"
     ]
    }
   ],
   "source": [
    "minimum_sugar.print_max_sugar_menu_item(database_filename, \"Chipotle\")"
   ]
  },
  {
   "cell_type": "markdown",
   "metadata": {},
   "source": [
    "Taco Bell has 9 entree menu items tied for the most sugar (7g). In list form:\n",
    "\n",
    "* [Biscuit Taco - Bacon, Egg & Cheese](http://www.nutritionix.com/i/taco-bell/biscuit-taco-bacon-egg-cheese/463d0791647dd7e10220bcec)\n",
    "* [Biscuit Taco - Sausage, Egg & Cheese](http://www.nutritionix.com/i/taco-bell/biscuit-taco-sausage-egg-cheese/463d0791de7395dfeb525dcf)\n",
    "* [Biscuit Taco](http://www.nutritionix.com/i//biscuit-taco/463d0791fd4113f3304e4ad8)\n",
    "* [Fiesta Taco Salad](http://www.nutritionix.com/i//fiesta-taco-salad/463d07918aba11ca9cce9a9a)\n",
    "* [Biscuit Taco - Sausage & Cheese](http://www.nutritionix.com/i//biscuit-taco-sausage-cheese/463d07919d093ab2244fdab0)\n",
    "* [Fiesta Taco Salad - Chicken](http://www.nutritionix.com/i//fiesta-taco-salad-chicken/463d07911a4c50142dc1e860)\n",
    "* [Fiesta Taco Salad - Beef](http://www.nutritionix.com/i//fiesta-taco-salad-beef/463d079126dd0a381c93e2d8)\n",
    "* [Fiesta Taco Salad - Steak](http://www.nutritionix.com/i//fiesta-taco-salad-steak/463d079195e49a2a64314a35)\n",
    "* [Biscuit Taco - Egg & Cheese](http://www.nutritionix.com/i//biscuit-taco-egg-cheese/463d0791dd2a297b4b709929)\n",
    "\n",
    "Generally speaking, the burger places (McDonald's, Wendy's, and Five Guys) have a wider distribution in terms of sugar than the \"Mexican\" places."
   ]
  },
  {
   "cell_type": "code",
   "execution_count": 16,
   "metadata": {
    "collapsed": false
   },
   "outputs": [
    {
     "name": "stdout",
     "output_type": "stream",
     "text": [
      "Max sugar: 7\n",
      "Item Name: Biscuit Taco - Bacon, Egg & Cheese\n",
      "Max sugar: 7\n",
      "Item Name: Biscuit Taco - Sausage, Egg & Cheese\n",
      "Max sugar: 7\n",
      "Item Name: Biscuit Taco\n",
      "Max sugar: 7\n",
      "Item Name: Fiesta Taco Salad\n",
      "Max sugar: 7\n",
      "Item Name: Biscuit Taco - Sausage & Cheese\n",
      "Max sugar: 7\n",
      "Item Name: Fiesta Taco Salad - Chicken\n",
      "Max sugar: 7\n",
      "Item Name: Fiesta Taco Salad - Beef\n",
      "Max sugar: 7\n",
      "Item Name: Fiesta Taco Salad - Steak\n",
      "Max sugar: 7\n",
      "Item Name: Biscuit Taco - Egg & Cheese\n"
     ]
    }
   ],
   "source": [
    "minimum_sugar.print_max_sugar_menu_item(database_filename, \"Taco Bell\")"
   ]
  },
  {
   "cell_type": "markdown",
   "metadata": {},
   "source": [
    "### Minimum sugar vs. calories\n",
    "Its possible to calculate things like average and standard deviation for the histograms above, but I don't see the utility in that information. Nobody goes to a restaurant and selects random items off the menu. My rule of thumb is to not order anything with more than 3g of sugar, and zero sugar is preferred. Using this rubric, the restaurants I considered have the following number of menu items at that part of the distribution:"
   ]
  },
  {
   "cell_type": "code",
   "execution_count": 19,
   "metadata": {
    "collapsed": false
   },
   "outputs": [
    {
     "name": "stdout",
     "output_type": "stream",
     "text": [
      "Wendy's: 16\n",
      "McDonald's: 14\n",
      "Five Guys: 10\n",
      "Qdoba: 67\n",
      "Taco Bell: 32\n",
      "Chipotle: 19\n"
     ]
    }
   ],
   "source": [
    "for brand_name in restaurant_names:\n",
    "    with sqlite3.connect(database_filename) as conn:\n",
    "        select_txt = \"\"\"\n",
    "            SELECT COUNT(item_name) \n",
    "            FROM menu_data \n",
    "            WHERE brand_name = ?\n",
    "            AND menu_category = 'entree'\n",
    "            AND nf_sugars < 3\n",
    "            \"\"\"\n",
    "        cursor = conn.cursor()\n",
    "        cursor.execute(select_txt, (brand_name, ))\n",
    "        num_items = cursor.fetchone()\n",
    "        \n",
    "        print brand_name + \": \" + str(num_items[0])"
   ]
  },
  {
   "cell_type": "markdown",
   "metadata": {},
   "source": [
    "As I mentioned above, I am interested in consuming more calories than someone smaller or with a different exercise regimen. Thus, my visualization of interest is the histogram of calories for the menu items containing less than three grams of sugar."
   ]
  },
  {
   "cell_type": "code",
   "execution_count": 25,
   "metadata": {
    "collapsed": false
   },
   "outputs": [],
   "source": [
    "with sqlite3.connect(database_filename) as conn:\n",
    "    # Uniformly scale the horizontal axis on all plots\n",
    "    select_txt = \"\"\"\n",
    "        SELECT MAX(nf_calories) \n",
    "        FROM menu_data \n",
    "        WHERE menu_category = 'entree'\n",
    "        AND nf_sugars < 3\n",
    "        \"\"\"\n",
    "    cursor = conn.cursor()\n",
    "    cursor.execute(select_txt)\n",
    "    \n",
    "    calories_max = cursor.fetchone()[0]\n",
    "    \n",
    "#     # Plot results\n",
    "#     select_txt = \"\"\"\n",
    "#         SELECT nf_calories\n",
    "#         FROM menu_data\n",
    "#         WHERE menu_category = 'entree'\n",
    "#         AND brand_name = ?\n",
    "#         AND nf_sugars < 3\n",
    "#         \"\"\"\n",
    "\n",
    "#     for restaurant_name in restaurant_names:\n",
    "#         cursor.execute(select_txt, (restaurant_name, ))\n",
    "#         calories = cursor.fetchall()\n",
    "        \n",
    "#         fig = minimum_sugar.menu_histogram(calories, x_max=calories_max, param_name=\"Calories\", title=restaurant_name)\n",
    "#         plt.show()"
   ]
  },
  {
   "cell_type": "markdown",
   "metadata": {},
   "source": [
    "Astonishingly, McDonald's features a menu item with less than 3g sugar and nearly 2000 calories (!) -- the [40 piece Chicken McNuggets](http://www.nutritionix.com/i/mcdonalds/chicken-mcnuggets-40-piece-/ae495051f4042f9fabd0857a). I suspect McDonald's intended this menu item to be purchased for parties and tailgates as opposed to a meal for an individual. McDonald's [20 piece Chicken McNuggets](http://www.nutritionix.com/i/mcdonalds/chicken-mcnuggets-20-piece-/513fc9e73fe3ffd4030010a9) is the runner-up in terms of calories with exactly half: 940 calories."
   ]
  },
  {
   "cell_type": "code",
   "execution_count": 32,
   "metadata": {
    "collapsed": false
   },
   "outputs": [
    {
     "name": "stdout",
     "output_type": "stream",
     "text": [
      "Chicken McNuggets (40 Piece): 1880\n",
      "Chicken McNuggets (20 Piece): 940\n"
     ]
    }
   ],
   "source": [
    "with sqlite3.connect(database_filename) as conn:\n",
    "    select_txt = \"\"\"\n",
    "        SELECT item_name, nf_calories \n",
    "        FROM menu_data\n",
    "        WHERE brand_name = 'McDonald''s'\n",
    "        AND nf_sugars < 3\n",
    "        ORDER BY nf_calories DESC\n",
    "        \"\"\"\n",
    "    cursor = conn.cursor()\n",
    "    cursor.execute(select_txt)\n",
    "\n",
    "    for item in cursor.fetchall()[:2]:\n",
    "        print item[0] + \": \" + str(item[1])"
   ]
  },
  {
   "cell_type": "markdown",
   "metadata": {},
   "source": [
    "Everything else is around 500 calories or less. All the menu items with less than 3g sugar are printed below, sorted by restaurant and calories (high to low)."
   ]
  },
  {
   "cell_type": "code",
   "execution_count": 33,
   "metadata": {
    "collapsed": false,
    "scrolled": false
   },
   "outputs": [
    {
     "name": "stdout",
     "output_type": "stream",
     "text": [
      "Wendy's\n",
      "=======\n",
      "10-Piece Spicy Chicken Nuggets: 470cal, 0g sugar\n",
      "10-Piece Chicken Nuggets: 450cal, 0g sugar\n",
      "Crispy Chicken Caesar Wrap: 410cal, 1g sugar\n",
      "Homestyle Chicken Go Wrap: 340cal, 1g sugar\n",
      "6-Piece Spicy Chicken Nuggets: 280cal, 0g sugar\n",
      "Spicy Chicken Breast: 270cal, 0g sugar\n",
      "Sausage & Egg Burrito: 270cal, 1g sugar\n",
      "Homestyle Chicken Breast: 270cal, 1g sugar\n",
      "Caesar Side Salad: 250cal, 2g sugar\n",
      "1/4 lb. Hamburger Patty: 240cal, 0g sugar\n",
      "4-Piece Spicy Chicken Nuggets: 190cal, 0g sugar\n",
      "4-Piece Chicken Nuggets: 180cal, 0g sugar\n",
      "Premium Cod: 180cal, 0g sugar\n",
      "Crispy Chicken Patty: 170cal, 0g sugar\n",
      "Grilled Chicken Breast: 130cal, 0g sugar\n",
      "Jr. Hamburger Patty: 110cal, 0g sugar\n",
      "\r\n",
      "McDonald's\n",
      "==========\n",
      "Chicken McNuggets (40 Piece): 1880cal, 1g sugar\n",
      "Chicken McNuggets (20 Piece): 940cal, 0g sugar\n",
      "Sausage Biscuit With Egg (Regular Size Biscuit): 510cal, 2g sugar\n",
      "Chicken McNuggets (10 Piece): 470cal, 0g sugar\n",
      "Sausage McMuffin With Egg: 450cal, 2g sugar\n",
      "Sausage Biscuit (Regular Size Biscuit): 430cal, 2g sugar\n",
      "Sausage McMuffin With Egg Whites: 400cal, 2g sugar\n",
      "Sausage McMuffin: 370cal, 2g sugar\n",
      "Chicken Selects (3 Pc): 370cal, 0g sugar\n",
      "Sausage Burrito: 300cal, 2g sugar\n",
      "Ranch Snack Wrap (Grilled): 290cal, 2g sugar\n",
      "Chicken McNuggets (6 Piece): 280cal, 0g sugar\n",
      "Chicken & Fish Chicken McNuggets (4 piece): 190cal, 0g sugar\n",
      "Side Salad: 15cal, 1g sugar\n",
      "\r\n",
      "Five Guys\n",
      "=========\n",
      "Bunless Cheeseburger: 580cal, 1g sugar\n",
      "Bunless Bacon Burger: 520cal, 0g sugar\n",
      "Bunless Bacon Cheese Dog: 440cal, 1g sugar\n",
      "Bunless Hamburger: 440cal, 0g sugar\n",
      "Bunless Bacon Dog: 370cal, 0g sugar\n",
      "Bunless Little Bacon Cheeseburger: 370cal, 1g sugar\n",
      "Bunless Cheese Dog: 360cal, 1g sugar\n",
      "Bunless Little Bacon Burger: 300cal, 0g sugar\n",
      "Bunless Little Cheeseburger: 290cal, 1g sugar\n",
      "Bunless Little Hamburger: 220cal, 0g sugar\n",
      "\r\n",
      "Qdoba\n",
      "=====\n",
      "Handmade Tortilla Chips: 560cal, 2g sugar\n",
      "Shredded Cheese - Quesadilla: 440cal, 1g sugar\n",
      "Handmade Tortilla Chips - Kids Meal: 280cal, 1g sugar\n",
      "Whole Wheat Flour Tortilla: 260cal, 2g sugar\n",
      "Whole Wheat - Smothered Burrito: 250cal, 2g sugar\n",
      "Seasoned Ground Beef: 240cal, 0g sugar\n",
      "Shredded Cheese - Breakfast Burrito: 220cal, 0g sugar\n",
      "Grilled Steak: 200cal, 0g sugar\n",
      "Shredded Beef: 190cal, 0g sugar\n",
      "3-Cheese Queso: 190cal, 1g sugar\n",
      "Cilantro Lime Rice: 190cal, 0g sugar\n",
      "Grilled Chicken: 190cal, 0g sugar\n",
      "Brown Rice: 170cal, 1g sugar\n",
      "Shredded Cheese - Burritos: 160cal, 0g sugar\n",
      "Grilled Chicken - Breakfast Burrito: 160cal, 0g sugar\n",
      "Queso Diablo: 160cal, 1g sugar\n",
      "Pulled Pork: 160cal, 1g sugar\n",
      "Black Beans: 140cal, 1g sugar\n",
      "Pulled Pork - Taco Salads: 140cal, 1g sugar\n",
      "Pinto Beans: 130cal, 0g sugar\n",
      "Guacamole: 130cal, 0g sugar\n",
      "Seasoned Ground Beef - Craft 2: 120cal, 0g sugar\n",
      "Roasted Chile Corn, Mild - Chips and Dip: 110cal, 1g sugar\n",
      "Shredded Cheese: 110cal, 0g sugar\n",
      "Grilled Steak - Craft 2: 100cal, 0g sugar\n",
      "Shredded Beef - Craft 2: 100cal, 0g sugar\n",
      "3-Cheese Queso - Burritos: 100cal, 1g sugar\n",
      "Cilantro Lime Rice - Craft 2, Smothered Burrito: 100cal, 0g sugar\n",
      "Grilled Chicken - Craft 2: 100cal, 0g sugar\n",
      "Tortilla Soup Mexican Gumbo: 90cal, 2g sugar\n",
      "Brown Rice - Craft 2, Smothered Burrito: 90cal, 1g sugar\n",
      "Pulled Pork - Craft 2: 80cal, 1g sugar\n",
      "Shredded Cheese - Smothered Burrito: 80cal, 0g sugar\n",
      "Seasoned Ground Beef - Tacos: 80cal, 0g sugar\n",
      "Queso Diablo - Burritos: 80cal, 1g sugar\n",
      "Grilled Steak - Tacos: 70cal, 0g sugar\n",
      "Pinto Beans - Craft 2, Smothered Burritos: 70cal, 0g sugar\n",
      "Crispy Corn Tortilla Strips Mexican Gumbo: 70cal, 0g sugar\n",
      "Grilled Chicken - Tacos: 70cal, 0g sugar\n",
      "Black Beans - Craft 2, Smothered Burrito: 70cal, 0g sugar\n",
      "Roasted Chile Corn, Mild: 60cal, 1g sugar\n",
      "Shredded Cheese - Tacos: 60cal, 0g sugar\n",
      "Crispy Taco Shell: 60cal, 0g sugar\n",
      "Shredded Beef - Tacos: 60cal, 0g sugar\n",
      "Pulled Pork - Tacos: 50cal, 0g sugar\n",
      "Tortilla Soup: 45cal, 1g sugar\n",
      "Sour Cream - Breakfast Burrito: 45cal, 2g sugar\n",
      "Roasted Chile Corn, Mild - Craft 2, Taco Salads: 30cal, 0g sugar\n",
      "Roasted Chile Corn, Mild - Tacos: 20cal, 0g sugar\n",
      "Salsa Roja, Hot: 20cal, 2g sugar\n",
      "Pico de Gallo, Mild - Chips and Dip: 20cal, 0g sugar\n",
      "Fiery Habanero Salsa, Extra Hot: 20cal, 2g sugar\n",
      "Sour Cream - Tacos: 20cal, 1g sugar\n",
      "Mango Salsa, Seasonal - Craft 2, Tacos Salads: 15cal, 2g sugar\n",
      "Salsa Verde, Medium: 15cal, 1g sugar\n",
      "Salsa Roja, Hot - Craft 2, Taco Salads: 10cal, 1g sugar\n",
      "Pico de Gallo, Mild: 10cal, 0g sugar\n",
      "Fiery Habanero Salsa, Extra Hot - Craft 2, Taco Salads: 10cal, 1g sugar\n",
      "Mango Salsa, Seasonal - Tacos: 10cal, 2g sugar\n",
      "Salsa Verde, Medium - Craft 2, Taco Salads: 10cal, 1g sugar\n",
      "Sour Cream - Smothered Burrito: 10cal, 0g sugar\n",
      "Pico de Gallo, Mild - Tacos: 5cal, 0g sugar\n",
      "Salsa Verde, Medium - Tacos: 5cal, 0g sugar\n",
      "Fiery Habanero Salsa, Extra Hot - Tacos: 5cal, 1g sugar\n",
      "Pico de Gallo, Mild - Craft 2, Taco Salads: 5cal, 0g sugar\n",
      "Salsa Roja, Hot - Tacos: 5cal, 1g sugar\n",
      "Lettuce: 5cal, 0g sugar\n",
      "\r\n",
      "Taco Bell\n",
      "=========\n",
      "Cheesy Burrito - Steak & Egg: 480cal, 2g sugar\n",
      "Chili Cheese Burrito (regional): 370cal, 2g sugar\n",
      "Triple Layer Nachos: 320cal, 2g sugar\n",
      "Double Decker&reg; Taco: 320cal, 2g sugar\n",
      "A.M. Grilled Taco - Sausage: 280cal, 1g sugar\n",
      "Double Tostada: 270cal, 2g sugar\n",
      "Meximelt&reg;: 250cal, 2g sugar\n",
      "Spicy Potato Soft Taco: 240cal, 1g sugar\n",
      "A.M. Grilled Taco - Bacon: 230cal, 1g sugar\n",
      "A.M. Grilled Taco: 230cal, 1g sugar\n",
      "Soft Taco Supreme&reg; - Beef: 210cal, 2g sugar\n",
      "Beefy Mini Quesadilla: 210cal, 1g sugar\n",
      "Spicy Tostada: 210cal, 1g sugar\n",
      "Grilled Steak Soft Taco: 200cal, 2g sugar\n",
      "Crunchy Taco Supreme&reg;: 190cal, 2g sugar\n",
      "Fiery Doritos&reg; Locos Taco Supreme&reg;: 190cal, 2g sugar\n",
      "Nacho Cheese Doritos&reg; Locos Taco Supreme&reg;: 190cal, 2g sugar\n",
      "Cool Ranch&reg; Doritos&reg; Locos Taco Supreme&reg;: 190cal, 2g sugar\n",
      "Soft Taco: 190cal, 1g sugar\n",
      "Soft Taco - Beef: 190cal, 1g sugar\n",
      "Shredded Chicken Mini Quesadilla: 180cal, 1g sugar\n",
      "Fiery Doritos&reg; Locos Taco: 170cal, 1g sugar\n",
      "Cool Ranch&reg; Doritos&reg; Locos Taco: 170cal, 1g sugar\n",
      "A.M. Grilled Taco - Egg & Cheese: 170cal, 1g sugar\n",
      "Crunchy Taco: 170cal, 1g sugar\n",
      "Nacho Cheese Doritos&reg; Locos Taco: 170cal, 1g sugar\n",
      "Fresco Soft Taco - Beef: 160cal, 2g sugar\n",
      "Soft Taco - Chicken: 160cal, 1g sugar\n",
      "Fresco Crunchy Taco - Beef: 150cal, 1g sugar\n",
      "Fresco Soft Taco - Steak: 150cal, 2g sugar\n",
      "Fresco Soft Taco - Shredded Chicken: 140cal, 2g sugar\n",
      "Nacho Cheese Doritos&reg; Chips: 140cal, 0g sugar\n",
      "\r\n",
      "Chipotle\n",
      "========\n",
      "Flour Tortilla (burrito): 300cal, 0g sugar\n",
      "Carnitas: 220cal, 0g sugar\n",
      "Brown Rice: 200cal, 1g sugar\n",
      "Steak: 190cal, 1g sugar\n",
      "Cilantro-Lime Rice: 190cal, 0g sugar\n",
      "Chicken: 180cal, 0g sugar\n",
      "Barbacoa: 170cal, 0g sugar\n",
      "Guacamole: 170cal, 0g sugar\n",
      "Black Beans: 120cal, 1g sugar\n",
      "Pinto Beans: 120cal, 1g sugar\n",
      "Cheese: 100cal, 0g sugar\n",
      "Flour Tortilla (taco): 90cal, 0g sugar\n",
      "Crispy Taco Shell: 70cal, 1g sugar\n",
      "Soft Corn Tortilla: 70cal, 0g sugar\n",
      "Red Tomatillo Salsa: 25cal, 1g sugar\n",
      "Fajita Veggies: 20cal, 2g sugar\n",
      "Green Tomatillo Salsa: 20cal, 2g sugar\n",
      "Romaine Lettuce (salad): 10cal, 1g sugar\n",
      "Lettuce: 5cal, 0g sugar\n",
      "\r\n"
     ]
    }
   ],
   "source": [
    "with sqlite3.connect(database_filename) as conn:\n",
    "    select_txt = \"\"\"\n",
    "        SELECT item_name, nf_calories, nf_sugars\n",
    "        FROM menu_data\n",
    "        WHERE brand_name = ?\n",
    "        AND menu_category = 'entree'\n",
    "        AND nf_sugars < 3\n",
    "        ORDER BY nf_calories DESC\n",
    "        \"\"\"\n",
    "    cursor = conn.cursor()\n",
    "    \n",
    "    for brand_name in restaurant_names:\n",
    "        cursor.execute(select_txt, (brand_name, ))\n",
    "        print brand_name\n",
    "        print \"=\" * len(brand_name)\n",
    "        for item in cursor.fetchall():\n",
    "            print item[0] + \": \" + str(item[1]) + \"cal, \" + str(item[2]) + \"g sugar\"\n",
    "            \n",
    "        print \"\\r\""
   ]
  },
  {
   "cell_type": "markdown",
   "metadata": {},
   "source": [
    "## The worst offenders? Beverages.\n",
    "Perhaps not surprisingly, beverages are a great way to consume a lot of sugar over a short period. To make this point, consider the following histogram plots in which each restaurant's entree items appear along with beverages. Please note that Nutritionix had no beverages listed in its database for some of the restaurants in this analysis. I still plot their histograms with the others for the sake of comparison."
   ]
  },
  {
   "cell_type": "code",
   "execution_count": 24,
   "metadata": {
    "collapsed": false,
    "scrolled": false
   },
   "outputs": [],
   "source": [
    "with sqlite3.connect(database_filename) as conn:\n",
    "    cursor = conn.cursor()\n",
    "    cursor.execute(\"SELECT MAX(nf_sugars) FROM menu_data WHERE menu_category = 'beverage'\")\n",
    "    sugar_max = cursor.fetchone()[0]\n",
    "    \n",
    "    select_txt = \"\"\"\n",
    "        SELECT nf_sugars\n",
    "        FROM menu_data\n",
    "        WHERE menu_category = ?\n",
    "        AND brand_name = ?\n",
    "        \"\"\"\n",
    "    \n",
    "#     for brand_name in restaurant_names:\n",
    "#         cursor.execute(select_txt, (\"entree\", brand_name, ))\n",
    "#         entree_sugars = cursor.fetchall()\n",
    "\n",
    "#         cursor.execute(select_txt, (\"beverage\", brand_name, ))\n",
    "#         beverage_sugars = cursor.fetchall()\n",
    "        \n",
    "#         fig = minimum_sugar.menu_histogram(entree_sugars, x_max=sugar_max, param_name=\"Sugar [g]\", title=brand_name, alpha=0.5, label=\"Entree\")\n",
    "#         if len(beverage_sugars) > 0:\n",
    "#             fig = minimum_sugar.menu_histogram(beverage_sugars, x_max=sugar_max, param_name=\"Sugar [g]\", fig=fig, alpha=0.5, label=\"Beverage\")\n",
    "        \n",
    "#         plt.legend()\n",
    "#         plt.show()"
   ]
  },
  {
   "cell_type": "markdown",
   "metadata": {},
   "source": [
    "I don't have much to say about beverages except just don't order them. There seems to be no upside."
   ]
  },
  {
   "cell_type": "markdown",
   "metadata": {},
   "source": [
    "## Remarks\n",
    "Rules of thumb: \n",
    "\n",
    "* If Ron Swanson wouldn't drink it (water, black coffee, scotch), it probably contains sugar. The sugar histograms show that beverages contain lots of sugar.\n",
    "* Avoid ketchup. And most other sauces. [Mustard](http://www.nutritionix.com/i/frenchs/mustard-classic-yellow/51d2fc51cc9bff111580e297) is the superior condiment anyway so use it instead. I didn't show the analysis, but typically sauces and dressings contain too much sugar. Anecdotal evidence of the high sugar content of sauces can be seen in the Wendy's pulled pork sandwiches above. On the other hand, eastern NC style barbecue sauce, The One True Barbecue Sauce, is the [exception](http://uncpress.unc.edu/HolySmoke/samplerecipes.html).\n",
    "* Order your burger without ketchup and the bun and you should have enough calories with minimal sugar.\n",
    "* A lot of low-sugar entree menu items are based on chicken instead of beef.\n",
    "\n",
    "During the course of this analysis, I was struck by the fact that the legacy/non-fast casual restaurants have a **ton** of menu items. McDonald's has >350 where Chipotle only has like 25. Granted, Nutritionix had no data on beverage offerings from Chipotle whereas they did have beverages from McDonalds. Nonetheless, McDonalds still has 86 items I categorized as entrees vs. Chipotle's 25.\n",
    "\n",
    "I can't imagine the amout of complexity that number of menu items adds to the management of the company. I also can't see how McDonalds gets rid of this complexity (i.e. sheds menu items) without alienating the customers these items intended to serve. It seems like this amount of complexity is an accretion over many years and is likely a result of their success. It seems eminently plausible that over the years executives at McDonalds thought, \"We are dominating this part of the market which is basically tapped out. In order to experience even more growth, we need to expand into other markets. How do we expand into other markets while leveraging the power of this brand to crush the competition?\""
   ]
  },
  {
   "cell_type": "code",
   "execution_count": 22,
   "metadata": {
    "collapsed": false
   },
   "outputs": [
    {
     "name": "stdout",
     "output_type": "stream",
     "text": [
      "Number of McDonald's entree menu items: 86\n"
     ]
    }
   ],
   "source": [
    "with sqlite3.connect(database_filename) as conn:\n",
    "    cursor = conn.cursor()\n",
    "    cursor.execute(\"SELECT COUNT(item_name) FROM menu_data WHERE brand_name = 'McDonald''s' AND menu_category = 'entree'\")\n",
    "    \n",
    "    print \"Number of McDonald's entree menu items:\", str(cursor.fetchone()[0])"
   ]
  },
  {
   "cell_type": "markdown",
   "metadata": {},
   "source": [
    "## Source\n",
    "This repository in which this report was developed is hosted on [github](https://github.com/jrsmith3/minimum_sugar)."
   ]
  }
 ],
 "metadata": {
  "kernelspec": {
   "display_name": "Python 2",
   "language": "python",
   "name": "python2"
  },
  "language_info": {
   "codemirror_mode": {
    "name": "ipython",
    "version": 2
   },
   "file_extension": ".py",
   "mimetype": "text/x-python",
   "name": "python",
   "nbconvert_exporter": "python",
   "pygments_lexer": "ipython2",
   "version": "2.7.10"
  }
 },
 "nbformat": 4,
 "nbformat_minor": 0
}
