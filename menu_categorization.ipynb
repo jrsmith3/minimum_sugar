{
 "cells": [
  {
   "cell_type": "markdown",
   "metadata": {},
   "source": [
    "# Menu categorization\n",
    "In this notebook I manually categorize the menu items found in `menu_data.sqlite3`.\n",
    "\n",
    "Menu items fall into the following categories:\n",
    "\n",
    "* beverage\n",
    "* dessert\n",
    "* condiment\n",
    "* side order\n",
    "* entree\n",
    "\n",
    "Items end up in these categories according to my own idiosyncratic categorization."
   ]
  },
  {
   "cell_type": "code",
   "execution_count": 1,
   "metadata": {
    "collapsed": true
   },
   "outputs": [],
   "source": [
    "import sqlite3\n",
    "import json\n",
    "import os\n",
    "\n",
    "database_filename = \"menu_data.sqlite3\""
   ]
  },
  {
   "cell_type": "markdown",
   "metadata": {},
   "source": [
    "## Create second (temporary) database to hold menu categories\n",
    "Instead of writing logic to check if a `menu_category` table exists in `menu_data.sqlite3` *OR* a `menu_category` column exists in the `menu_data` table, I'm just going to create a new, temporary, database file to hold the category data. I will create this file in a similar fashion to what I did in `download_data.ipynb`."
   ]
  },
  {
   "cell_type": "code",
   "execution_count": 2,
   "metadata": {
    "collapsed": false
   },
   "outputs": [],
   "source": [
    "# Get `menu_id`s from `menu_data.sqlite3` to populate temporary database.\n",
    "with sqlite3.connect(database_filename) as conn:\n",
    "    cursor = conn.cursor()\n",
    "    cursor.execute(\"SELECT item_id FROM menu_data\")\n",
    "    item_ids = cursor.fetchall()\n",
    "\n",
    "# Abstractions for temporary category database\n",
    "category_database_filename = \"menu_categories.sqlite3\"\n",
    "\n",
    "# I assume that if the file `menu_categories.sqlite3` already exists, the schema and data exist as well.\n",
    "db_is_new = not os.path.exists(category_database_filename)\n",
    "\n",
    "with sqlite3.connect(category_database_filename) as conn:\n",
    "    if db_is_new:\n",
    "        conn.execute(\"CREATE TABLE item_categories (item_id TEXT PRIMARY KEY NOT NULL, item_category text)\")\n",
    "        cursor = conn.cursor()\n",
    "        cursor.executemany(\"INSERT INTO item_categories (item_id) VALUES (?)\", item_ids)"
   ]
  },
  {
   "cell_type": "markdown",
   "metadata": {},
   "source": [
    "## Dump non-categorized `item_name`s to a file\n",
    "In this way I can delete the items which belong to a particular category and use `set` operations to recover the list of deleted items."
   ]
  },
  {
   "cell_type": "code",
   "execution_count": 11,
   "metadata": {
    "collapsed": false
   },
   "outputs": [],
   "source": [
    "# I've abstracted the JOIN command up here because i wanted to break it up over multiple lines.\n",
    "join_cmd = \"\"\"\n",
    "SELECT menu_data.menu_data.item_name\n",
    "    FROM menu_data.menu_data JOIN menu_categories.item_categories \n",
    "        ON menu_data.menu_data.item_id = menu_categories.item_categories.item_id\n",
    "    WHERE menu_categories.item_categories.item_category ISNULL\n",
    "\"\"\"\n",
    "\n",
    "# I'm not sure of a nice looking way to do this.\n",
    "with sqlite3.connect(\":memory:\") as conn:\n",
    "    # Ugly. Would like to abstract.\n",
    "    conn.execute(\"ATTACH DATABASE 'menu_data.sqlite3' as 'menu_data'\")\n",
    "    conn.execute(\"ATTACH DATABASE 'menu_categories.sqlite3' as 'menu_categories'\")\n",
    "    cursor = conn.cursor()    \n",
    "    cursor.execute(join_cmd)\n",
    "\n",
    "    item_names = cursor.fetchall()\n",
    "    \n",
    "item_names = [item_name[0] for item_name in item_names]\n",
    "item_names.sort()\n",
    "    \n",
    "with open(\"item_names.dat\", \"w\") as f:\n",
    "    f.write(json.dumps(item_names, indent=4, separators=(',', ': ')))"
   ]
  },
  {
   "cell_type": "markdown",
   "metadata": {},
   "source": [
    "At this point I will open the `item_names.dat` file in a text editor and remove each line that lists a menu item belonging to a particular category (beverage, side, etc.). Once I've deleted all the item names of a particular category, I will save the file.\n",
    "\n",
    "Next, I will open the saved file and recover the deleted item names using `set` operations."
   ]
  },
  {
   "cell_type": "code",
   "execution_count": 20,
   "metadata": {
    "collapsed": false
   },
   "outputs": [],
   "source": [
    "with open(\"item_names.dat\", \"r\") as f:\n",
    "    truncated_item_names = json.load(f)\n",
    "    \n",
    "categorized_item_names = list(set(item_names) - set(truncated_item_names))\n",
    "categorized_item_names.sort()"
   ]
  },
  {
   "cell_type": "markdown",
   "metadata": {},
   "source": [
    "Finally, I will `INSERT` the `categorized_item_names` into the `menu_category` database."
   ]
  },
  {
   "cell_type": "code",
   "execution_count": 22,
   "metadata": {
    "collapsed": true
   },
   "outputs": [],
   "source": [
    "# Add code"
   ]
  },
  {
   "cell_type": "code",
   "execution_count": 36,
   "metadata": {
    "collapsed": false
   },
   "outputs": [],
   "source": [
    "# conn = sqlite3.connect(database_filename)\n",
    "# conn.execute(\"ATTACH DATABASE ? as db2\", (category_database_filename, ))"
   ]
  },
  {
   "cell_type": "code",
   "execution_count": null,
   "metadata": {
    "collapsed": true
   },
   "outputs": [],
   "source": []
  }
 ],
 "metadata": {
  "kernelspec": {
   "display_name": "Python 2",
   "language": "python",
   "name": "python2"
  },
  "language_info": {
   "codemirror_mode": {
    "name": "ipython",
    "version": 2
   },
   "file_extension": ".py",
   "mimetype": "text/x-python",
   "name": "python",
   "nbconvert_exporter": "python",
   "pygments_lexer": "ipython2",
   "version": "2.7.10"
  }
 },
 "nbformat": 4,
 "nbformat_minor": 0
}
