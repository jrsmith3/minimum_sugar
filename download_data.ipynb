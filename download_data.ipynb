{
 "cells": [
  {
   "cell_type": "markdown",
   "metadata": {},
   "source": [
    "# Download data\n",
    "This notebook contains the code to download data from the [Nutritionix API](http://www.nutritionix.com/api) into a reasonable local data structure, create and structure a sqlite3 database, populate the database with data, and save the database to a file on disk.\n",
    "\n",
    "The restaurant names and IDs have already been downloaded to `restaurant_ids.json`, and this task is beyond the scope of this notebook, so I'm just going to load the restaurant name/ID data from that file."
   ]
  },
  {
   "cell_type": "code",
   "execution_count": 57,
   "metadata": {
    "collapsed": false
   },
   "outputs": [],
   "source": [
    "import requests\n",
    "import json\n",
    "import os\n",
    "import minimum_sugar\n",
    "import sqlite3\n",
    "import types\n",
    "\n",
    "# Load credential data from file\n",
    "with open(\"credentials.json\", \"r\") as f:\n",
    "    credentials = json.load(f)\n",
    "    \n",
    "# Load restaurant IDs and names from file\n",
    "with open(\"restaurant_ids.json\", \"r\") as f:\n",
    "    restaurants = json.load(f)"
   ]
  },
  {
   "cell_type": "markdown",
   "metadata": {},
   "source": [
    "## Get data locally using Nutrionix API\n",
    "The menu item data needs to be downloaded using the Nutritionix API and stored in a local data structure. This data structure will be a list of dicts, with each list item containing all the data Nutritionix has on that menu item."
   ]
  },
  {
   "cell_type": "code",
   "execution_count": 9,
   "metadata": {
    "collapsed": false
   },
   "outputs": [],
   "source": [
    "# Could do some list comprehension here, but I think it code readability would suffer.\n",
    "menu_data = []\n",
    "for restaurant in restaurants:\n",
    "    menu_data.extend(minimum_sugar.fetch_menu_item_data(restaurant[\"id\"], credentials))"
   ]
  },
  {
   "cell_type": "markdown",
   "metadata": {},
   "source": [
    "## Create SQLite database\n",
    "The database needs to be created before it can be populated. The fields will correspond to the data fields provided by the Nutritionix API."
   ]
  },
  {
   "cell_type": "code",
   "execution_count": 77,
   "metadata": {
    "collapsed": true
   },
   "outputs": [],
   "source": [
    "create_table_command_slug = \"CREATE TABLE menu_items ({})\""
   ]
  },
  {
   "cell_type": "code",
   "execution_count": 78,
   "metadata": {
    "collapsed": false
   },
   "outputs": [],
   "source": [
    "# Map to [SQLite's types](https://www.sqlite.org/datatype3.html)\n",
    "py2sql_map = {types.NoneType: \"text\",\n",
    "    float: \"real\",\n",
    "    int: \"integer\",\n",
    "    unicode: \"text\",}\n",
    "\n",
    "# Create dict with key and sql_key_type mapping\n",
    "sql_keys_and_types = {key: py2sql_map[type(val)] for key, val in menu_data[0].iteritems()}\n",
    "\n",
    "# Generate the string used to create the SQL table columns\n",
    "sql_table_columns_command = \", \".join([\" \".join(item) for item in sql_keys_and_types.iteritems()])\n",
    "create_table_command = create_table_command_slug.format(sql_table_columns_command)"
   ]
  },
  {
   "cell_type": "code",
   "execution_count": 80,
   "metadata": {
    "collapsed": false
   },
   "outputs": [
    {
     "data": {
      "text/plain": [
       "<sqlite3.Cursor at 0x108bc4c70>"
      ]
     },
     "execution_count": 80,
     "metadata": {},
     "output_type": "execute_result"
    }
   ],
   "source": [
    "conn = sqlite3.connect(\"test.sqlite3\")\n",
    "cursor = conn.cursor()\n",
    "cursor.execute(create_table_command)"
   ]
  },
  {
   "cell_type": "code",
   "execution_count": 81,
   "metadata": {
    "collapsed": false
   },
   "outputs": [],
   "source": [
    "conn.close()"
   ]
  },
  {
   "cell_type": "code",
   "execution_count": null,
   "metadata": {
    "collapsed": true
   },
   "outputs": [],
   "source": []
  }
 ],
 "metadata": {
  "kernelspec": {
   "display_name": "Python 2",
   "language": "python",
   "name": "python2"
  },
  "language_info": {
   "codemirror_mode": {
    "name": "ipython",
    "version": 2
   },
   "file_extension": ".py",
   "mimetype": "text/x-python",
   "name": "python",
   "nbconvert_exporter": "python",
   "pygments_lexer": "ipython2",
   "version": "2.7.10"
  }
 },
 "nbformat": 4,
 "nbformat_minor": 0
}
